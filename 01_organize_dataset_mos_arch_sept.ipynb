{
 "cells": [
  {
   "cell_type": "markdown",
   "metadata": {},
   "source": [
    "# Dataset for CV to csv "
   ]
  },
  {
   "cell_type": "code",
   "execution_count": 1,
   "metadata": {},
   "outputs": [],
   "source": [
    "import pandas as pd\n",
    "import os"
   ]
  },
  {
   "cell_type": "code",
   "execution_count": 2,
   "metadata": {},
   "outputs": [],
   "source": [
    "# directory of prepared dataset \n",
    "directory = '/Users/vladkozlovskiy/Desktop/DATAS/_Architecture_CV/Mos_Arch_11_sept/'"
   ]
  },
  {
   "cell_type": "code",
   "execution_count": 3,
   "metadata": {},
   "outputs": [],
   "source": [
    "way_list = []\n",
    "target_list = []\n",
    "years_list = []\n",
    "type_file = []\n",
    "for address, dirs, files in os.walk(directory):\n",
    "    for name in files:\n",
    "        way_list.append(os.path.join(address) + '/' + name)\n",
    "        target_list.append(os.path.basename(address))\n",
    "        years_list.append(name[-8:-4])\n",
    "        type_file.append(name[-3:len(name)])"
   ]
  },
  {
   "cell_type": "code",
   "execution_count": 4,
   "metadata": {},
   "outputs": [
    {
     "data": {
      "text/plain": [
       "(3168, 3)"
      ]
     },
     "execution_count": 4,
     "metadata": {},
     "output_type": "execute_result"
    }
   ],
   "source": [
    "data = pd.DataFrame({'image_path' : way_list, 'target_col': target_list, 'type':type_file})\n",
    "data.shape"
   ]
  },
  {
   "cell_type": "code",
   "execution_count": 5,
   "metadata": {},
   "outputs": [
    {
     "data": {
      "text/plain": [
       "array(['ore', 'jpg', 'JPG'], dtype=object)"
      ]
     },
     "execution_count": 5,
     "metadata": {},
     "output_type": "execute_result"
    }
   ],
   "source": [
    "data['type'].unique()"
   ]
  },
  {
   "cell_type": "code",
   "execution_count": 6,
   "metadata": {},
   "outputs": [],
   "source": [
    "data['type'] = data['type'].apply(lambda x: x.lower())"
   ]
  },
  {
   "cell_type": "code",
   "execution_count": 7,
   "metadata": {},
   "outputs": [
    {
     "data": {
      "text/plain": [
       "(3167, 3)"
      ]
     },
     "execution_count": 7,
     "metadata": {},
     "output_type": "execute_result"
    }
   ],
   "source": [
    "data = data.loc[data['type'] == 'jpg']\n",
    "data = data.reset_index(drop=True)\n",
    "data.shape"
   ]
  },
  {
   "cell_type": "code",
   "execution_count": 8,
   "metadata": {},
   "outputs": [
    {
     "data": {
      "text/html": [
       "<div>\n",
       "<style scoped>\n",
       "    .dataframe tbody tr th:only-of-type {\n",
       "        vertical-align: middle;\n",
       "    }\n",
       "\n",
       "    .dataframe tbody tr th {\n",
       "        vertical-align: top;\n",
       "    }\n",
       "\n",
       "    .dataframe thead th {\n",
       "        text-align: right;\n",
       "    }\n",
       "</style>\n",
       "<table border=\"1\" class=\"dataframe\">\n",
       "  <thead>\n",
       "    <tr style=\"text-align: right;\">\n",
       "      <th></th>\n",
       "      <th>image_path</th>\n",
       "      <th>target_col</th>\n",
       "      <th>type</th>\n",
       "    </tr>\n",
       "  </thead>\n",
       "  <tbody>\n",
       "    <tr>\n",
       "      <th>0</th>\n",
       "      <td>/Users/vladkozlovskiy/Desktop/DATAS/_Architect...</td>\n",
       "      <td>10_Church</td>\n",
       "      <td>jpg</td>\n",
       "    </tr>\n",
       "    <tr>\n",
       "      <th>1</th>\n",
       "      <td>/Users/vladkozlovskiy/Desktop/DATAS/_Architect...</td>\n",
       "      <td>10_Church</td>\n",
       "      <td>jpg</td>\n",
       "    </tr>\n",
       "    <tr>\n",
       "      <th>2</th>\n",
       "      <td>/Users/vladkozlovskiy/Desktop/DATAS/_Architect...</td>\n",
       "      <td>10_Church</td>\n",
       "      <td>jpg</td>\n",
       "    </tr>\n",
       "    <tr>\n",
       "      <th>3</th>\n",
       "      <td>/Users/vladkozlovskiy/Desktop/DATAS/_Architect...</td>\n",
       "      <td>10_Church</td>\n",
       "      <td>jpg</td>\n",
       "    </tr>\n",
       "    <tr>\n",
       "      <th>4</th>\n",
       "      <td>/Users/vladkozlovskiy/Desktop/DATAS/_Architect...</td>\n",
       "      <td>10_Church</td>\n",
       "      <td>jpg</td>\n",
       "    </tr>\n",
       "    <tr>\n",
       "      <th>...</th>\n",
       "      <td>...</td>\n",
       "      <td>...</td>\n",
       "      <td>...</td>\n",
       "    </tr>\n",
       "    <tr>\n",
       "      <th>3162</th>\n",
       "      <td>/Users/vladkozlovskiy/Desktop/DATAS/_Architect...</td>\n",
       "      <td>07_Panelka</td>\n",
       "      <td>jpg</td>\n",
       "    </tr>\n",
       "    <tr>\n",
       "      <th>3163</th>\n",
       "      <td>/Users/vladkozlovskiy/Desktop/DATAS/_Architect...</td>\n",
       "      <td>07_Panelka</td>\n",
       "      <td>jpg</td>\n",
       "    </tr>\n",
       "    <tr>\n",
       "      <th>3164</th>\n",
       "      <td>/Users/vladkozlovskiy/Desktop/DATAS/_Architect...</td>\n",
       "      <td>07_Panelka</td>\n",
       "      <td>jpg</td>\n",
       "    </tr>\n",
       "    <tr>\n",
       "      <th>3165</th>\n",
       "      <td>/Users/vladkozlovskiy/Desktop/DATAS/_Architect...</td>\n",
       "      <td>07_Panelka</td>\n",
       "      <td>jpg</td>\n",
       "    </tr>\n",
       "    <tr>\n",
       "      <th>3166</th>\n",
       "      <td>/Users/vladkozlovskiy/Desktop/DATAS/_Architect...</td>\n",
       "      <td>07_Panelka</td>\n",
       "      <td>jpg</td>\n",
       "    </tr>\n",
       "  </tbody>\n",
       "</table>\n",
       "<p>3167 rows × 3 columns</p>\n",
       "</div>"
      ],
      "text/plain": [
       "                                             image_path  target_col type\n",
       "0     /Users/vladkozlovskiy/Desktop/DATAS/_Architect...   10_Church  jpg\n",
       "1     /Users/vladkozlovskiy/Desktop/DATAS/_Architect...   10_Church  jpg\n",
       "2     /Users/vladkozlovskiy/Desktop/DATAS/_Architect...   10_Church  jpg\n",
       "3     /Users/vladkozlovskiy/Desktop/DATAS/_Architect...   10_Church  jpg\n",
       "4     /Users/vladkozlovskiy/Desktop/DATAS/_Architect...   10_Church  jpg\n",
       "...                                                 ...         ...  ...\n",
       "3162  /Users/vladkozlovskiy/Desktop/DATAS/_Architect...  07_Panelka  jpg\n",
       "3163  /Users/vladkozlovskiy/Desktop/DATAS/_Architect...  07_Panelka  jpg\n",
       "3164  /Users/vladkozlovskiy/Desktop/DATAS/_Architect...  07_Panelka  jpg\n",
       "3165  /Users/vladkozlovskiy/Desktop/DATAS/_Architect...  07_Panelka  jpg\n",
       "3166  /Users/vladkozlovskiy/Desktop/DATAS/_Architect...  07_Panelka  jpg\n",
       "\n",
       "[3167 rows x 3 columns]"
      ]
     },
     "execution_count": 8,
     "metadata": {},
     "output_type": "execute_result"
    }
   ],
   "source": [
    "data"
   ]
  },
  {
   "cell_type": "code",
   "execution_count": 9,
   "metadata": {},
   "outputs": [],
   "source": [
    "# this option for case when we add year (if year written at the end of filename) doesn`t work in this version\n",
    "\n",
    "#data['year'] = pd.to_numeric(data['year']) # year to numeric\n",
    "#data = data.drop(index=379, axis=1)  # for delete rows whic can`t become numeric\n",
    "#data.iloc[379]\n",
    "#data = data.reset_index(drop=True)\n",
    "#print(data.shape)\n"
   ]
  },
  {
   "cell_type": "code",
   "execution_count": 9,
   "metadata": {},
   "outputs": [],
   "source": [
    "path_to_save = '/Users/vladkozlovskiy/Desktop/DATAS/_Architecture_CV/_Mos_arch_final_sept/'"
   ]
  },
  {
   "cell_type": "code",
   "execution_count": 10,
   "metadata": {},
   "outputs": [],
   "source": [
    "# path to save dataset\n",
    "data.to_csv(path_to_save + 'csv_path_11_classes_sept.csv', index=False)"
   ]
  },
  {
   "cell_type": "code",
   "execution_count": null,
   "metadata": {},
   "outputs": [],
   "source": []
  }
 ],
 "metadata": {
  "kernelspec": {
   "display_name": "base",
   "language": "python",
   "name": "base"
  },
  "language_info": {
   "codemirror_mode": {
    "name": "ipython",
    "version": 3
   },
   "file_extension": ".py",
   "mimetype": "text/x-python",
   "name": "python",
   "nbconvert_exporter": "python",
   "pygments_lexer": "ipython3",
   "version": "3.11.7"
  }
 },
 "nbformat": 4,
 "nbformat_minor": 2
}
